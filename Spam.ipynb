{
 "cells": [
  {
   "cell_type": "code",
   "execution_count": 1,
   "id": "b28070f3",
   "metadata": {},
   "outputs": [],
   "source": [
    "import numpy as np\n",
    "import pandas as pd\n",
    "import matplotlib.pyplot as plt\n",
    "import seaborn as sns\n",
    "from sklearn.feature_extraction.text import TfidfVectorizer\n",
    "\n",
    "import warnings\n",
    "warnings.simplefilter(action='ignore', category=FutureWarning)"
   ]
  },
  {
   "cell_type": "markdown",
   "id": "28e66172",
   "metadata": {},
   "source": [
    "# Introduction"
   ]
  },
  {
   "cell_type": "markdown",
   "id": "b61a654a",
   "metadata": {},
   "source": [
    "This project aims to develop machine learning models that can be used to detect whether a message is a spam. First I transform the mail into vector form so that it can be used as input for machine learning algorithms (Logistic Regression and Naive Bayes). Next I train a machine learning model to learn to discriminate between normal and spam messages. Finally, with the trained model, I will classify unlable mail into spam or ham.\n",
    "\n",
    "\n",
    "The Data Set is obtained from UCI Machine Learning Repository. It contains one set of SMS messages in English of 5,572 mails, tagged acording being ham (normal) or spam."
   ]
  },
  {
   "cell_type": "markdown",
   "id": "44ac0945",
   "metadata": {},
   "source": [
    "# Exploratory Data Analysis"
   ]
  },
  {
   "cell_type": "markdown",
   "id": "0074a882",
   "metadata": {},
   "source": [
    "## Load data"
   ]
  },
  {
   "cell_type": "code",
   "execution_count": 2,
   "id": "b21dd7a9",
   "metadata": {},
   "outputs": [
    {
     "data": {
      "text/html": [
       "<div>\n",
       "<style scoped>\n",
       "    .dataframe tbody tr th:only-of-type {\n",
       "        vertical-align: middle;\n",
       "    }\n",
       "\n",
       "    .dataframe tbody tr th {\n",
       "        vertical-align: top;\n",
       "    }\n",
       "\n",
       "    .dataframe thead th {\n",
       "        text-align: right;\n",
       "    }\n",
       "</style>\n",
       "<table border=\"1\" class=\"dataframe\">\n",
       "  <thead>\n",
       "    <tr style=\"text-align: right;\">\n",
       "      <th></th>\n",
       "      <th>category</th>\n",
       "      <th>mail</th>\n",
       "    </tr>\n",
       "  </thead>\n",
       "  <tbody>\n",
       "    <tr>\n",
       "      <th>0</th>\n",
       "      <td>ham</td>\n",
       "      <td>Go until jurong point, crazy.. Available only ...</td>\n",
       "    </tr>\n",
       "    <tr>\n",
       "      <th>1</th>\n",
       "      <td>ham</td>\n",
       "      <td>Ok lar... Joking wif u oni...</td>\n",
       "    </tr>\n",
       "    <tr>\n",
       "      <th>2</th>\n",
       "      <td>spam</td>\n",
       "      <td>Free entry in 2 a wkly comp to win FA Cup fina...</td>\n",
       "    </tr>\n",
       "    <tr>\n",
       "      <th>3</th>\n",
       "      <td>ham</td>\n",
       "      <td>U dun say so early hor... U c already then say...</td>\n",
       "    </tr>\n",
       "    <tr>\n",
       "      <th>4</th>\n",
       "      <td>ham</td>\n",
       "      <td>Nah I don't think he goes to usf, he lives aro...</td>\n",
       "    </tr>\n",
       "  </tbody>\n",
       "</table>\n",
       "</div>"
      ],
      "text/plain": [
       "  category                                               mail\n",
       "0      ham  Go until jurong point, crazy.. Available only ...\n",
       "1      ham                      Ok lar... Joking wif u oni...\n",
       "2     spam  Free entry in 2 a wkly comp to win FA Cup fina...\n",
       "3      ham  U dun say so early hor... U c already then say...\n",
       "4      ham  Nah I don't think he goes to usf, he lives aro..."
      ]
     },
     "execution_count": 2,
     "metadata": {},
     "output_type": "execute_result"
    }
   ],
   "source": [
    "sms = pd.read_csv('SMSSpamCollection.csv', sep='\\t',\n",
    "                  names=[\"category\", \"mail\"])\n",
    "sms.head()"
   ]
  },
  {
   "cell_type": "markdown",
   "id": "fef29eba",
   "metadata": {},
   "source": [
    "## Explore"
   ]
  },
  {
   "cell_type": "code",
   "execution_count": 3,
   "id": "af6a1cd4",
   "metadata": {
    "scrolled": true
   },
   "outputs": [
    {
     "data": {
      "text/html": [
       "<div>\n",
       "<style scoped>\n",
       "    .dataframe tbody tr th:only-of-type {\n",
       "        vertical-align: middle;\n",
       "    }\n",
       "\n",
       "    .dataframe tbody tr th {\n",
       "        vertical-align: top;\n",
       "    }\n",
       "\n",
       "    .dataframe thead th {\n",
       "        text-align: right;\n",
       "    }\n",
       "</style>\n",
       "<table border=\"1\" class=\"dataframe\">\n",
       "  <thead>\n",
       "    <tr style=\"text-align: right;\">\n",
       "      <th></th>\n",
       "      <th>category</th>\n",
       "      <th>mail</th>\n",
       "    </tr>\n",
       "  </thead>\n",
       "  <tbody>\n",
       "    <tr>\n",
       "      <th>count</th>\n",
       "      <td>5572</td>\n",
       "      <td>5572</td>\n",
       "    </tr>\n",
       "    <tr>\n",
       "      <th>unique</th>\n",
       "      <td>2</td>\n",
       "      <td>5169</td>\n",
       "    </tr>\n",
       "    <tr>\n",
       "      <th>top</th>\n",
       "      <td>ham</td>\n",
       "      <td>Sorry, I'll call later</td>\n",
       "    </tr>\n",
       "    <tr>\n",
       "      <th>freq</th>\n",
       "      <td>4825</td>\n",
       "      <td>30</td>\n",
       "    </tr>\n",
       "  </tbody>\n",
       "</table>\n",
       "</div>"
      ],
      "text/plain": [
       "       category                    mail\n",
       "count      5572                    5572\n",
       "unique        2                    5169\n",
       "top         ham  Sorry, I'll call later\n",
       "freq       4825                      30"
      ]
     },
     "execution_count": 3,
     "metadata": {},
     "output_type": "execute_result"
    }
   ],
   "source": [
    "sms.describe()"
   ]
  },
  {
   "cell_type": "code",
   "execution_count": 4,
   "id": "4e6efc31",
   "metadata": {},
   "outputs": [
    {
     "data": {
      "text/html": [
       "<div>\n",
       "<style scoped>\n",
       "    .dataframe tbody tr th:only-of-type {\n",
       "        vertical-align: middle;\n",
       "    }\n",
       "\n",
       "    .dataframe tbody tr th {\n",
       "        vertical-align: top;\n",
       "    }\n",
       "\n",
       "    .dataframe thead tr th {\n",
       "        text-align: left;\n",
       "    }\n",
       "\n",
       "    .dataframe thead tr:last-of-type th {\n",
       "        text-align: right;\n",
       "    }\n",
       "</style>\n",
       "<table border=\"1\" class=\"dataframe\">\n",
       "  <thead>\n",
       "    <tr>\n",
       "      <th></th>\n",
       "      <th colspan=\"4\" halign=\"left\">mail</th>\n",
       "    </tr>\n",
       "    <tr>\n",
       "      <th></th>\n",
       "      <th>count</th>\n",
       "      <th>unique</th>\n",
       "      <th>top</th>\n",
       "      <th>freq</th>\n",
       "    </tr>\n",
       "    <tr>\n",
       "      <th>category</th>\n",
       "      <th></th>\n",
       "      <th></th>\n",
       "      <th></th>\n",
       "      <th></th>\n",
       "    </tr>\n",
       "  </thead>\n",
       "  <tbody>\n",
       "    <tr>\n",
       "      <th>ham</th>\n",
       "      <td>4825</td>\n",
       "      <td>4516</td>\n",
       "      <td>Sorry, I'll call later</td>\n",
       "      <td>30</td>\n",
       "    </tr>\n",
       "    <tr>\n",
       "      <th>spam</th>\n",
       "      <td>747</td>\n",
       "      <td>653</td>\n",
       "      <td>Please call our customer service representativ...</td>\n",
       "      <td>4</td>\n",
       "    </tr>\n",
       "  </tbody>\n",
       "</table>\n",
       "</div>"
      ],
      "text/plain": [
       "          mail                                                               \n",
       "         count unique                                                top freq\n",
       "category                                                                     \n",
       "ham       4825   4516                             Sorry, I'll call later   30\n",
       "spam       747    653  Please call our customer service representativ...    4"
      ]
     },
     "execution_count": 4,
     "metadata": {},
     "output_type": "execute_result"
    }
   ],
   "source": [
    "sms.groupby('category').describe()"
   ]
  },
  {
   "cell_type": "code",
   "execution_count": 5,
   "id": "a820cb33",
   "metadata": {},
   "outputs": [
    {
     "data": {
      "text/plain": [
       "Text(0.5, 1.0, 'Spam vs Ham')"
      ]
     },
     "execution_count": 5,
     "metadata": {},
     "output_type": "execute_result"
    },
    {
     "data": {
      "image/png": "[encoded data removed]",
      "text/plain": [
       "<Figure size 576x288 with 1 Axes>"
      ]
     },
     "metadata": {
      "needs_background": "light"
     },
     "output_type": "display_data"
    }
   ],
   "source": [
    "plt.figure(figsize=(8,4))\n",
    "sns.countplot(x='category', data=sms)\n",
    "\n",
    "plt.title('Spam vs Ham')"
   ]
  },
  {
   "cell_type": "markdown",
   "id": "f3d668fa",
   "metadata": {},
   "source": [
    "### Length of each mail"
   ]
  },
  {
   "cell_type": "code",
   "execution_count": 6,
   "id": "7d2f3c0f",
   "metadata": {},
   "outputs": [
    {
     "data": {
      "text/html": [
       "<div>\n",
       "<style scoped>\n",
       "    .dataframe tbody tr th:only-of-type {\n",
       "        vertical-align: middle;\n",
       "    }\n",
       "\n",
       "    .dataframe tbody tr th {\n",
       "        vertical-align: top;\n",
       "    }\n",
       "\n",
       "    .dataframe thead th {\n",
       "        text-align: right;\n",
       "    }\n",
       "</style>\n",
       "<table border=\"1\" class=\"dataframe\">\n",
       "  <thead>\n",
       "    <tr style=\"text-align: right;\">\n",
       "      <th></th>\n",
       "      <th>category</th>\n",
       "      <th>mail</th>\n",
       "      <th>length</th>\n",
       "    </tr>\n",
       "  </thead>\n",
       "  <tbody>\n",
       "    <tr>\n",
       "      <th>0</th>\n",
       "      <td>ham</td>\n",
       "      <td>Go until jurong point, crazy.. Available only ...</td>\n",
       "      <td>111</td>\n",
       "    </tr>\n",
       "    <tr>\n",
       "      <th>1</th>\n",
       "      <td>ham</td>\n",
       "      <td>Ok lar... Joking wif u oni...</td>\n",
       "      <td>29</td>\n",
       "    </tr>\n",
       "    <tr>\n",
       "      <th>2</th>\n",
       "      <td>spam</td>\n",
       "      <td>Free entry in 2 a wkly comp to win FA Cup fina...</td>\n",
       "      <td>155</td>\n",
       "    </tr>\n",
       "    <tr>\n",
       "      <th>3</th>\n",
       "      <td>ham</td>\n",
       "      <td>U dun say so early hor... U c already then say...</td>\n",
       "      <td>49</td>\n",
       "    </tr>\n",
       "    <tr>\n",
       "      <th>4</th>\n",
       "      <td>ham</td>\n",
       "      <td>Nah I don't think he goes to usf, he lives aro...</td>\n",
       "      <td>61</td>\n",
       "    </tr>\n",
       "  </tbody>\n",
       "</table>\n",
       "</div>"
      ],
      "text/plain": [
       "  category                                               mail  length\n",
       "0      ham  Go until jurong point, crazy.. Available only ...     111\n",
       "1      ham                      Ok lar... Joking wif u oni...      29\n",
       "2     spam  Free entry in 2 a wkly comp to win FA Cup fina...     155\n",
       "3      ham  U dun say so early hor... U c already then say...      49\n",
       "4      ham  Nah I don't think he goes to usf, he lives aro...      61"
      ]
     },
     "execution_count": 6,
     "metadata": {},
     "output_type": "execute_result"
    }
   ],
   "source": [
    "sms['length'] = sms['mail'].apply(len)\n",
    "sms.head()"
   ]
  },
  {
   "cell_type": "code",
   "execution_count": 7,
   "id": "783054c0",
   "metadata": {},
   "outputs": [
    {
     "data": {
      "text/plain": [
       "<AxesSubplot:xlabel='length', ylabel='Count'>"
      ]
     },
     "execution_count": 7,
     "metadata": {},
     "output_type": "execute_result"
    },
    {
     "data": {
      "image/png": "[encoded data removed]",
      "text/plain": [
       "<Figure size 504x288 with 1 Axes>"
      ]
     },
     "metadata": {
      "needs_background": "light"
     },
     "output_type": "display_data"
    }
   ],
   "source": [
    "plt.figure(figsize=(7,4))\n",
    "sns.histplot(sms[('length')])"
   ]
  },
  {
   "cell_type": "code",
   "execution_count": 8,
   "id": "6d3b9312",
   "metadata": {},
   "outputs": [
    {
     "data": {
      "text/plain": [
       "<AxesSubplot:xlabel='length'>"
      ]
     },
     "execution_count": 8,
     "metadata": {},
     "output_type": "execute_result"
    },
    {
     "data": {
      "image/png": "[encoded data removed]",
      "text/plain": [
       "<Figure size 432x144 with 1 Axes>"
      ]
     },
     "metadata": {
      "needs_background": "light"
     },
     "output_type": "display_data"
    }
   ],
   "source": [
    "plt.figure(figsize=(6,2))\n",
    "sns.boxplot(sms[('length')])"
   ]
  },
  {
   "cell_type": "markdown",
   "id": "00f0f066",
   "metadata": {},
   "source": [
    "From the boxplot and the displot, the data seems to have clear outliers with more than 500 characters. There are 3 messages with more than 600 and 1 with more than 800 characters."
   ]
  },
  {
   "cell_type": "code",
   "execution_count": 9,
   "id": "eabdaab7",
   "metadata": {},
   "outputs": [
    {
     "data": {
      "text/html": [
       "<div>\n",
       "<style scoped>\n",
       "    .dataframe tbody tr th:only-of-type {\n",
       "        vertical-align: middle;\n",
       "    }\n",
       "\n",
       "    .dataframe tbody tr th {\n",
       "        vertical-align: top;\n",
       "    }\n",
       "\n",
       "    .dataframe thead th {\n",
       "        text-align: right;\n",
       "    }\n",
       "</style>\n",
       "<table border=\"1\" class=\"dataframe\">\n",
       "  <thead>\n",
       "    <tr style=\"text-align: right;\">\n",
       "      <th></th>\n",
       "      <th>category</th>\n",
       "      <th>mail</th>\n",
       "      <th>length</th>\n",
       "    </tr>\n",
       "  </thead>\n",
       "  <tbody>\n",
       "    <tr>\n",
       "      <th>1085</th>\n",
       "      <td>ham</td>\n",
       "      <td>For me the love should start with attraction.i...</td>\n",
       "      <td>910</td>\n",
       "    </tr>\n",
       "    <tr>\n",
       "      <th>1579</th>\n",
       "      <td>ham</td>\n",
       "      <td>How to Make a girl Happy? It's not at all diff...</td>\n",
       "      <td>611</td>\n",
       "    </tr>\n",
       "    <tr>\n",
       "      <th>1863</th>\n",
       "      <td>ham</td>\n",
       "      <td>The last thing i ever wanted to do was hurt yo...</td>\n",
       "      <td>790</td>\n",
       "    </tr>\n",
       "    <tr>\n",
       "      <th>2158</th>\n",
       "      <td>ham</td>\n",
       "      <td>Sad story of a Man - Last week was my b'day. M...</td>\n",
       "      <td>588</td>\n",
       "    </tr>\n",
       "    <tr>\n",
       "      <th>2434</th>\n",
       "      <td>ham</td>\n",
       "      <td>Indians r poor but India is not a poor country...</td>\n",
       "      <td>629</td>\n",
       "    </tr>\n",
       "    <tr>\n",
       "      <th>2849</th>\n",
       "      <td>ham</td>\n",
       "      <td>Sad story of a Man - Last week was my b'day. M...</td>\n",
       "      <td>588</td>\n",
       "    </tr>\n",
       "  </tbody>\n",
       "</table>\n",
       "</div>"
      ],
      "text/plain": [
       "     category                                               mail  length\n",
       "1085      ham  For me the love should start with attraction.i...     910\n",
       "1579      ham  How to Make a girl Happy? It's not at all diff...     611\n",
       "1863      ham  The last thing i ever wanted to do was hurt yo...     790\n",
       "2158      ham  Sad story of a Man - Last week was my b'day. M...     588\n",
       "2434      ham  Indians r poor but India is not a poor country...     629\n",
       "2849      ham  Sad story of a Man - Last week was my b'day. M...     588"
      ]
     },
     "execution_count": 9,
     "metadata": {},
     "output_type": "execute_result"
    }
   ],
   "source": [
    "sms[sms['length'] > 500]"
   ]
  },
  {
   "cell_type": "markdown",
   "id": "760a6e77",
   "metadata": {},
   "source": [
    "Now, let's examine how ham and spam mail different in length."
   ]
  },
  {
   "cell_type": "code",
   "execution_count": 10,
   "id": "3f62602a",
   "metadata": {},
   "outputs": [
    {
     "data": {
      "text/plain": [
       "<matplotlib.legend.Legend at 0x141e0f191f0>"
      ]
     },
     "execution_count": 10,
     "metadata": {},
     "output_type": "execute_result"
    },
    {
     "data": {
      "image/png": "[encoded data removed]",
      "text/plain": [
       "<Figure size 576x288 with 1 Axes>"
      ]
     },
     "metadata": {
      "needs_background": "light"
     },
     "output_type": "display_data"
    }
   ],
   "source": [
    "g = sns.FacetGrid(data=sms, hue=\"category\", height=4, aspect=2)\n",
    "g.map(sns.distplot, 'length', bins=30)\n",
    "g.set(xticks=np.arange(0,1000,50))\n",
    "plt.legend()"
   ]
  },
  {
   "cell_type": "markdown",
   "id": "67ee7b92",
   "metadata": {},
   "source": [
    "The average length of normal mail is about 40 characters while that of spam is 160. There is a big difference, so length could be a good feature to classify message labels."
   ]
  },
  {
   "cell_type": "markdown",
   "id": "5fb23381",
   "metadata": {},
   "source": [
    "# Create Model "
   ]
  },
  {
   "cell_type": "markdown",
   "id": "de076c4a",
   "metadata": {},
   "source": [
    "###  Data preprocessing "
   ]
  },
  {
   "cell_type": "code",
   "execution_count": 11,
   "id": "ac06155e",
   "metadata": {},
   "outputs": [],
   "source": [
    "sms['ham']=np.where(sms['category']=='ham',1,0) # convert categorical variable to numerical.\n"
   ]
  },
  {
   "cell_type": "code",
   "execution_count": 12,
   "id": "aca9c837",
   "metadata": {},
   "outputs": [],
   "source": [
    "X = sms['mail']\n",
    "\n",
    "Y = sms['ham']"
   ]
  },
  {
   "cell_type": "markdown",
   "id": "eeeb3a22",
   "metadata": {},
   "source": [
    "Train and Test set"
   ]
  },
  {
   "cell_type": "code",
   "execution_count": 13,
   "id": "f1044610",
   "metadata": {},
   "outputs": [],
   "source": [
    "from sklearn.model_selection import train_test_split\n",
    "\n",
    "X_train, X_test, Y_train, Y_test = train_test_split(X,Y, test_size = 0.2, random_state = 3)"
   ]
  },
  {
   "cell_type": "code",
   "execution_count": 14,
   "id": "34605b35",
   "metadata": {
    "scrolled": true
   },
   "outputs": [
    {
     "data": {
      "text/plain": [
       "(4457,)"
      ]
     },
     "execution_count": 14,
     "metadata": {},
     "output_type": "execute_result"
    }
   ],
   "source": [
    "X_train.shape"
   ]
  },
  {
   "cell_type": "markdown",
   "id": "70f3bd6a",
   "metadata": {},
   "source": [
    "In this step, I will use TF-UDF to transform text data into feature vectors that can be used as input for machine learning algorithm. Punctuation and stop words (i.e. \"the\", \"a\", \"to\"...) are also removed."
   ]
  },
  {
   "cell_type": "code",
   "execution_count": 15,
   "id": "fa528b54",
   "metadata": {},
   "outputs": [],
   "source": [
    "features_extraction = TfidfVectorizer(min_df = 1, stop_words = 'english', lowercase = 'True')\n",
    "\n",
    "X_train_features = features_extraction.fit_transform(X_train)\n",
    "X_test_features = features_extraction.transform(X_test)\n",
    "\n",
    "Y_train = Y_train.astype('int')\n",
    "Y_test = Y_test.astype('int')"
   ]
  },
  {
   "cell_type": "code",
   "execution_count": 16,
   "id": "42ec6cb2",
   "metadata": {
    "scrolled": true
   },
   "outputs": [
    {
     "name": "stdout",
     "output_type": "stream",
     "text": [
      "  (0, 5417)\t0.6198254967574347\n",
      "  (0, 4460)\t0.4168658090846482\n",
      "  (0, 2228)\t0.413103377943378\n",
      "  (0, 3815)\t0.34780165336891333\n",
      "  (0, 2333)\t0.38783870336935383\n",
      "  (1, 4084)\t0.18880584110891163\n",
      "  (1, 3189)\t0.29694482957694585\n",
      "  (1, 3329)\t0.31610586766078863\n",
      "  (1, 2961)\t0.3398297002864083\n",
      "  (1, 2750)\t0.3398297002864083\n",
      "  (1, 921)\t0.22871581159877646\n",
      "  (1, 1843)\t0.2784903590561455\n",
      "  (1, 2762)\t0.3226407885943799\n",
      "  (1, 2960)\t0.33036995955537024\n",
      "  (1, 1995)\t0.33036995955537024\n",
      "  (1, 3050)\t0.2503712792613518\n",
      "  (1, 3815)\t0.17419952275504033\n",
      "  (2, 409)\t0.509272536051008\n",
      "  (2, 3160)\t0.4107239318312698\n",
      "  (2, 2408)\t0.45287711070606745\n",
      "  (2, 6605)\t0.6056811524587518\n",
      "  (3, 2874)\t0.5864269879324768\n",
      "  (3, 7418)\t0.8100020912469564\n",
      "  (4, 50)\t0.23633754072626942\n",
      "  (4, 5501)\t0.15743785051118356\n",
      "  :\t:\n",
      "  (4454, 4606)\t0.2669765732445391\n",
      "  (4454, 3146)\t0.32014451677763156\n",
      "  (4455, 2251)\t0.37052851863170466\n",
      "  (4455, 2473)\t0.35441545511837946\n",
      "  (4455, 5650)\t0.33545678464631296\n",
      "  (4455, 6814)\t0.29731757715898277\n",
      "  (4455, 6095)\t0.23103841516927642\n",
      "  (4455, 7117)\t0.30536590342067704\n",
      "  (4455, 3876)\t0.3108911491788658\n",
      "  (4455, 4719)\t0.30714144758811196\n",
      "  (4455, 6920)\t0.19636985317119715\n",
      "  (4455, 3926)\t0.31287563163368587\n",
      "  (4455, 4460)\t0.24920025316220423\n",
      "  (4456, 142)\t0.2932541430313407\n",
      "  (4456, 650)\t0.3016511176385743\n",
      "  (4456, 6315)\t0.3016511176385743\n",
      "  (4456, 5573)\t0.4624290148175941\n",
      "  (4456, 6032)\t0.20893540627099033\n",
      "  (4456, 7158)\t0.2410873720002407\n",
      "  (4456, 7154)\t0.366508976904276\n",
      "  (4456, 6253)\t0.17526433262803023\n",
      "  (4456, 6311)\t0.2755677321230243\n",
      "  (4456, 336)\t0.22224301216207445\n",
      "  (4456, 5782)\t0.16260275755535852\n",
      "  (4456, 2874)\t0.31556598473710984\n"
     ]
    }
   ],
   "source": [
    "print(X_train_features)"
   ]
  },
  {
   "cell_type": "markdown",
   "id": "a69304b7",
   "metadata": {},
   "source": [
    "## Logistic Regression"
   ]
  },
  {
   "cell_type": "code",
   "execution_count": 17,
   "id": "20a7b09c",
   "metadata": {},
   "outputs": [
    {
     "data": {
      "text/plain": [
       "LogisticRegression()"
      ]
     },
     "execution_count": 17,
     "metadata": {},
     "output_type": "execute_result"
    }
   ],
   "source": [
    "from sklearn.linear_model import LogisticRegression\n",
    "from sklearn.metrics import accuracy_score\n",
    "\n",
    "model = LogisticRegression()\n",
    "\n",
    "model.fit(X_train_features, Y_train)"
   ]
  },
  {
   "cell_type": "code",
   "execution_count": 18,
   "id": "413db7e1",
   "metadata": {},
   "outputs": [],
   "source": [
    "log_prediction = model.predict(X_test_features)\n",
    "log_accuracy = accuracy_score(Y_test, log_prediction)"
   ]
  },
  {
   "cell_type": "code",
   "execution_count": 19,
   "id": "793cd09c",
   "metadata": {},
   "outputs": [
    {
     "name": "stdout",
     "output_type": "stream",
     "text": [
      "Accuracy on test set : 0.9659192825112107\n"
     ]
    }
   ],
   "source": [
    "print(f'Accuracy on test set : {log_accuracy}')"
   ]
  },
  {
   "cell_type": "code",
   "execution_count": 20,
   "id": "126b9444",
   "metadata": {},
   "outputs": [
    {
     "name": "stdout",
     "output_type": "stream",
     "text": [
      "\n",
      "Confusion Matrix:\n",
      "[[117  38]\n",
      " [  0 960]]\n",
      "\n",
      "Classification Report:\n",
      "              precision    recall  f1-score   support\n",
      "\n",
      "           0       1.00      0.75      0.86       155\n",
      "           1       0.96      1.00      0.98       960\n",
      "\n",
      "    accuracy                           0.97      1115\n",
      "   macro avg       0.98      0.88      0.92      1115\n",
      "weighted avg       0.97      0.97      0.96      1115\n",
      "\n",
      "\n"
     ]
    }
   ],
   "source": [
    "from sklearn.metrics import confusion_matrix, classification_report\n",
    "\n",
    "print(f\"\"\"\n",
    "Confusion Matrix:\n",
    "{confusion_matrix(Y_test, log_prediction)}\n",
    "\n",
    "Classification Report:\n",
    "{classification_report(Y_test, log_prediction)}\n",
    "\"\"\")"
   ]
  },
  {
   "cell_type": "markdown",
   "id": "ae4d9f44",
   "metadata": {},
   "source": [
    "## Naives Bayes"
   ]
  },
  {
   "cell_type": "code",
   "execution_count": 21,
   "id": "30e88d3a",
   "metadata": {},
   "outputs": [
    {
     "data": {
      "text/plain": [
       "MultinomialNB()"
      ]
     },
     "execution_count": 21,
     "metadata": {},
     "output_type": "execute_result"
    }
   ],
   "source": [
    "from sklearn.pipeline import Pipeline\n",
    "from sklearn.naive_bayes import MultinomialNB\n",
    "\n",
    "nb_classifier = MultinomialNB()\n",
    "nb_classifier.fit(X_train_features, Y_train)"
   ]
  },
  {
   "cell_type": "code",
   "execution_count": 23,
   "id": "c88aef78",
   "metadata": {},
   "outputs": [],
   "source": [
    "naives_prediction = nb_classifier.predict(X_test_features)\n",
    "naives_accuracy = accuracy_score(Y_test, naives_prediction)"
   ]
  },
  {
   "cell_type": "code",
   "execution_count": 24,
   "id": "09907e00",
   "metadata": {},
   "outputs": [
    {
     "name": "stdout",
     "output_type": "stream",
     "text": [
      "Accuracy on test set : 0.9730941704035875\n"
     ]
    }
   ],
   "source": [
    "print(f'Accuracy on test set : {naives_accuracy}')"
   ]
  },
  {
   "cell_type": "code",
   "execution_count": 25,
   "id": "7f0aeb0d",
   "metadata": {},
   "outputs": [
    {
     "name": "stdout",
     "output_type": "stream",
     "text": [
      "\n",
      "Confusion Matrix:\n",
      "[[125  30]\n",
      " [  0 960]]\n",
      "\n",
      "Classification Report:\n",
      "              precision    recall  f1-score   support\n",
      "\n",
      "           0       1.00      0.81      0.89       155\n",
      "           1       0.97      1.00      0.98       960\n",
      "\n",
      "    accuracy                           0.97      1115\n",
      "   macro avg       0.98      0.90      0.94      1115\n",
      "weighted avg       0.97      0.97      0.97      1115\n",
      "\n",
      "\n"
     ]
    }
   ],
   "source": [
    "print(f\"\"\"\n",
    "Confusion Matrix:\n",
    "{confusion_matrix(Y_test, naives_prediction)}\n",
    "\n",
    "Classification Report:\n",
    "{classification_report(Y_test, naives_prediction)}\n",
    "\"\"\")"
   ]
  },
  {
   "cell_type": "markdown",
   "id": "23c53bf0",
   "metadata": {},
   "source": [
    "# Conclusion"
   ]
  },
  {
   "cell_type": "markdown",
   "id": "e9a21bfa",
   "metadata": {},
   "source": [
    "Before using machine learning algorithm to identify spam messages, I vectorize the dataset of 5572 messages obtained from UCI Machine Learning Repository and removing punctuation and stop words in each message. Then I train the data with Naive Bayes algorithm and Logistic Regression. However naives bayes provide a more accurate prediction of 96%."
   ]
  },
  {
   "cell_type": "code",
   "execution_count": null,
   "id": "360b6978",
   "metadata": {},
   "outputs": [],
   "source": []
  },
  {
   "cell_type": "code",
   "execution_count": null,
   "id": "4e9a3dc0",
   "metadata": {},
   "outputs": [],
   "source": []
  },
  {
   "cell_type": "code",
   "execution_count": null,
   "id": "4fc24e59",
   "metadata": {},
   "outputs": [],
   "source": []
  }
 ],
 "metadata": {
  "kernelspec": {
   "display_name": "Python 3 (ipykernel)",
   "language": "python",
   "name": "python3"
  },
  "language_info": {
   "codemirror_mode": {
    "name": "ipython",
    "version": 3
   },
   "file_extension": ".py",
   "mimetype": "text/x-python",
   "name": "python",
   "nbconvert_exporter": "python",
   "pygments_lexer": "ipython3",
   "version": "3.9.12"
  }
 },
 "nbformat": 4,
 "nbformat_minor": 5
}
